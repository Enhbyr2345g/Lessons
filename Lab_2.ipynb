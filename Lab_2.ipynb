{
 "cells": [
  {
   "cell_type": "code",
   "id": "initial_id",
   "metadata": {
    "collapsed": true,
    "ExecuteTime": {
     "end_time": "2025-09-14T13:38:26.238391Z",
     "start_time": "2025-09-14T13:38:26.232447Z"
    }
   },
   "source": [
    "# Bodlogo 1\n",
    "import numpy as np\n",
    "\n",
    "massiv = np.arange(30,71,2)\n",
    "\n",
    "print(massiv)\n",
    "print(len(massiv))\n"
   ],
   "outputs": [
    {
     "name": "stdout",
     "output_type": "stream",
     "text": [
      "[30 32 34 36 38 40 42 44 46 48 50 52 54 56 58 60 62 64 66 68 70]\n",
      "21\n"
     ]
    }
   ],
   "execution_count": 6
  },
  {
   "metadata": {
    "ExecuteTime": {
     "end_time": "2025-09-15T03:37:21.019596Z",
     "start_time": "2025-09-15T03:37:21.014794Z"
    }
   },
   "cell_type": "code",
   "source": [
    "# Bodlogo 2\n",
    "\n",
    "celsus = np.random.randint(-51 ,51,10)\n",
    "fahrenheit = np.random.randint(-10,10, 10)\n",
    "\n",
    "convertFahrenheit = lambda celsus: 9/5 * celsus + 32\n",
    "convertCelsus = lambda farenheit: 5/9 * (farenheit - 32)\n",
    "\n",
    "print(\"Celsus: \", celsus)\n",
    "print(\"Converted to Fahrenheit\", convertFahrenheit(celsus))\n",
    "print(\"Fahrenheit \", fahrenheit)\n",
    "print(\"Converted to Celsus\", np.round(convertCelsus(fahrenheit), 1))\n"
   ],
   "id": "e699eaa952d5d550",
   "outputs": [
    {
     "name": "stdout",
     "output_type": "stream",
     "text": [
      "Celsus:  [ 33   1 -22   9 -49  -8   1   1 -24  34]\n",
      "Converted to Fahrenheit [ 91.4  33.8  -7.6  48.2 -56.2  17.6  33.8  33.8 -11.2  93.2]\n",
      "Fahrenheit  [  5   3  -1 -10  -8  -2   5  -3   7  -4]\n",
      "Converted to Celsus [-15.  -16.1 -18.3 -23.3 -22.2 -18.9 -15.  -19.4 -13.9 -20. ]\n"
     ]
    }
   ],
   "execution_count": 14
  },
  {
   "metadata": {
    "ExecuteTime": {
     "end_time": "2025-09-15T03:42:30.960037Z",
     "start_time": "2025-09-15T03:42:30.956715Z"
    }
   },
   "cell_type": "code",
   "source": [
    "# Bodlogo 3\n",
    "\n",
    "x = np.arange(1,7,1)\n",
    "\n",
    "print(\"x Matrix:\",x)\n",
    "\n",
    "print(\"z Matrix:\", np.reshape(x,(2,3)))\n",
    "print(\"y Matrix:\",np.reshape(x,(3,2)))\n"
   ],
   "id": "6cdd2b4ecbfbab21",
   "outputs": [
    {
     "name": "stdout",
     "output_type": "stream",
     "text": [
      "x Matrix: [1 2 3 4 5 6]\n",
      "z Matrix: [[1 2 3]\n",
      " [4 5 6]]\n",
      "y Matrix: [[1 2]\n",
      " [3 4]\n",
      " [5 6]]\n"
     ]
    }
   ],
   "execution_count": 22
  },
  {
   "metadata": {
    "ExecuteTime": {
     "end_time": "2025-09-15T04:01:28.888482Z",
     "start_time": "2025-09-15T04:01:28.885226Z"
    }
   },
   "cell_type": "code",
   "source": [
    "# Bodlogo 4\n",
    "\n",
    "a = np.random.randint(90, 110, 5)\n",
    "b = np.array(['a', 'e', 'i', 'o', 'u'])\n",
    "\n",
    "print(a)\n",
    "print(b)\n",
    "print(b[a > 100])\n"
   ],
   "id": "d59d0e2f67b7e8a6",
   "outputs": [
    {
     "name": "stdout",
     "output_type": "stream",
     "text": [
      "[ 94  98 108  95 101]\n",
      "['a' 'e' 'i' 'o' 'u']\n",
      "['i' 'u']\n"
     ]
    }
   ],
   "execution_count": 50
  },
  {
   "metadata": {
    "ExecuteTime": {
     "end_time": "2025-09-15T04:32:29.107052Z",
     "start_time": "2025-09-15T04:32:29.100083Z"
    }
   },
   "cell_type": "code",
   "source": [
    "# Bodlogo 5\n",
    "\n",
    "a, b = np.arange(1, 13).reshape(4,3), np.arange(1, 9).reshape(4,2)\n",
    "\n",
    "print(a)\n",
    "print(b)\n",
    "\n",
    "result = a.T.dot(b)\n",
    "print(result)\n"
   ],
   "id": "4e2d5c811cbeacd6",
   "outputs": [
    {
     "name": "stdout",
     "output_type": "stream",
     "text": [
      "[[ 1  2  3]\n",
      " [ 4  5  6]\n",
      " [ 7  8  9]\n",
      " [10 11 12]]\n",
      "[[1 2]\n",
      " [3 4]\n",
      " [5 6]\n",
      " [7 8]]\n",
      "[[118 140]\n",
      " [134 160]\n",
      " [150 180]]\n"
     ]
    }
   ],
   "execution_count": 80
  },
  {
   "metadata": {
    "ExecuteTime": {
     "end_time": "2025-09-17T06:42:11.685497Z",
     "start_time": "2025-09-17T06:42:11.661921Z"
    }
   },
   "cell_type": "code",
   "source": [
    "# Bodlogo 6\n",
    "import pandas as pd\n",
    "\n",
    "x = pd.Series([1,2,3,4,5,6,7,8,9,5,3])\n",
    "\n",
    "medx = x.mean()\n",
    "stdx = x.std()\n",
    "print(\"Mean: \", medx, \"str: \", stdx)\n",
    "\n"
   ],
   "id": "a3b9c8a9f36b7f20",
   "outputs": [
    {
     "name": "stdout",
     "output_type": "stream",
     "text": [
      "Mean:  4.818181818181818 str:  2.522624895547565\n"
     ]
    }
   ],
   "execution_count": 4
  },
  {
   "metadata": {
    "ExecuteTime": {
     "end_time": "2025-09-17T06:43:53.154Z",
     "start_time": "2025-09-17T06:43:53.150422Z"
    }
   },
   "cell_type": "code",
   "source": [
    "# Bodlogo 7\n",
    "\n",
    "s = 'php', 'python', 'java', 'c#'\n",
    "print(s)\n",
    "\n",
    "for i in s:\n"
   ],
   "id": "cc4d4fa96d25e2b5",
   "outputs": [
    {
     "name": "stdout",
     "output_type": "stream",
     "text": [
      "('php', 'python', 'java', 'c#')\n"
     ]
    }
   ],
   "execution_count": 5
  }
 ],
 "metadata": {
  "kernelspec": {
   "display_name": "Python 3",
   "language": "python",
   "name": "python3"
  },
  "language_info": {
   "codemirror_mode": {
    "name": "ipython",
    "version": 2
   },
   "file_extension": ".py",
   "mimetype": "text/x-python",
   "name": "python",
   "nbconvert_exporter": "python",
   "pygments_lexer": "ipython2",
   "version": "2.7.6"
  }
 },
 "nbformat": 4,
 "nbformat_minor": 5
}
